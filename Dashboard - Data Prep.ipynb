{
 "cells": [
  {
   "cell_type": "code",
   "execution_count": 1,
   "metadata": {},
   "outputs": [],
   "source": [
    "import numpy as np\n",
    "import pandas as pd"
   ]
  },
  {
   "cell_type": "code",
   "execution_count": 2,
   "metadata": {},
   "outputs": [],
   "source": [
    "a = pd.read_csv('movie.csv')"
   ]
  },
  {
   "cell_type": "code",
   "execution_count": 3,
   "metadata": {},
   "outputs": [],
   "source": [
    "b = pd.read_csv('rating.csv')"
   ]
  },
  {
   "cell_type": "code",
   "execution_count": 4,
   "metadata": {},
   "outputs": [],
   "source": [
    "newdf = a.join(b.set_index('movieId'), on='movieId', how='left')"
   ]
  },
  {
   "cell_type": "code",
   "execution_count": 5,
   "metadata": {},
   "outputs": [],
   "source": [
    "# cut down to only unique titles:\n",
    "df = newdf.drop_duplicates(['title'])"
   ]
  },
  {
   "cell_type": "code",
   "execution_count": 6,
   "metadata": {},
   "outputs": [],
   "source": [
    "def ret(mystr):\n",
    "    char1 = '('\n",
    "    char2 = ')'\n",
    "    return(mystr[mystr.find(char1)+1 : mystr.find(char2)])"
   ]
  },
  {
   "cell_type": "code",
   "execution_count": 7,
   "metadata": {},
   "outputs": [
    {
     "name": "stderr",
     "output_type": "stream",
     "text": [
      "C:\\ProgramData\\Anaconda3\\lib\\site-packages\\ipykernel_launcher.py:1: SettingWithCopyWarning: \n",
      "A value is trying to be set on a copy of a slice from a DataFrame.\n",
      "Try using .loc[row_indexer,col_indexer] = value instead\n",
      "\n",
      "See the caveats in the documentation: https://pandas.pydata.org/pandas-docs/stable/user_guide/indexing.html#returning-a-view-versus-a-copy\n",
      "  \"\"\"Entry point for launching an IPython kernel.\n"
     ]
    }
   ],
   "source": [
    "df['year'] = df['title'].apply(ret)"
   ]
  },
  {
   "cell_type": "code",
   "execution_count": 8,
   "metadata": {},
   "outputs": [],
   "source": [
    "# keep only movie titles:\n",
    "import re\n",
    "def removeInt(title):\n",
    "    return(re.sub('[^a-zA-Z]+', '', title));"
   ]
  },
  {
   "cell_type": "code",
   "execution_count": 9,
   "metadata": {},
   "outputs": [
    {
     "name": "stderr",
     "output_type": "stream",
     "text": [
      "C:\\ProgramData\\Anaconda3\\lib\\site-packages\\ipykernel_launcher.py:1: SettingWithCopyWarning: \n",
      "A value is trying to be set on a copy of a slice from a DataFrame.\n",
      "Try using .loc[row_indexer,col_indexer] = value instead\n",
      "\n",
      "See the caveats in the documentation: https://pandas.pydata.org/pandas-docs/stable/user_guide/indexing.html#returning-a-view-versus-a-copy\n",
      "  \"\"\"Entry point for launching an IPython kernel.\n"
     ]
    }
   ],
   "source": [
    "df['title'] = df['title'].apply(removeInt)"
   ]
  },
  {
   "cell_type": "code",
   "execution_count": 10,
   "metadata": {},
   "outputs": [],
   "source": [
    "# put spaces between capital letters:\n",
    "def remSpaces(title):\n",
    "    return(re.sub(r\"(\\w)([A-Z])\", r\"\\1 \\2\", title))"
   ]
  },
  {
   "cell_type": "code",
   "execution_count": 11,
   "metadata": {},
   "outputs": [
    {
     "name": "stderr",
     "output_type": "stream",
     "text": [
      "C:\\ProgramData\\Anaconda3\\lib\\site-packages\\ipykernel_launcher.py:1: SettingWithCopyWarning: \n",
      "A value is trying to be set on a copy of a slice from a DataFrame.\n",
      "Try using .loc[row_indexer,col_indexer] = value instead\n",
      "\n",
      "See the caveats in the documentation: https://pandas.pydata.org/pandas-docs/stable/user_guide/indexing.html#returning-a-view-versus-a-copy\n",
      "  \"\"\"Entry point for launching an IPython kernel.\n"
     ]
    }
   ],
   "source": [
    "df['title'] = df['title'].apply(remSpaces)"
   ]
  },
  {
   "cell_type": "code",
   "execution_count": 12,
   "metadata": {},
   "outputs": [
    {
     "data": {
      "text/html": [
       "<div>\n",
       "<style scoped>\n",
       "    .dataframe tbody tr th:only-of-type {\n",
       "        vertical-align: middle;\n",
       "    }\n",
       "\n",
       "    .dataframe tbody tr th {\n",
       "        vertical-align: top;\n",
       "    }\n",
       "\n",
       "    .dataframe thead th {\n",
       "        text-align: right;\n",
       "    }\n",
       "</style>\n",
       "<table border=\"1\" class=\"dataframe\">\n",
       "  <thead>\n",
       "    <tr style=\"text-align: right;\">\n",
       "      <th></th>\n",
       "      <th>movieId</th>\n",
       "      <th>title</th>\n",
       "      <th>genres</th>\n",
       "      <th>userId</th>\n",
       "      <th>rating</th>\n",
       "      <th>timestamp</th>\n",
       "      <th>year</th>\n",
       "    </tr>\n",
       "  </thead>\n",
       "  <tbody>\n",
       "    <tr>\n",
       "      <th>0</th>\n",
       "      <td>1</td>\n",
       "      <td>Toy Story</td>\n",
       "      <td>Adventure|Animation|Children|Comedy|Fantasy</td>\n",
       "      <td>3.0</td>\n",
       "      <td>4.0</td>\n",
       "      <td>1999-12-11 13:36:47</td>\n",
       "      <td>1995</td>\n",
       "    </tr>\n",
       "    <tr>\n",
       "      <th>1</th>\n",
       "      <td>2</td>\n",
       "      <td>Jumanji</td>\n",
       "      <td>Adventure|Children|Fantasy</td>\n",
       "      <td>1.0</td>\n",
       "      <td>3.5</td>\n",
       "      <td>2005-04-02 23:53:47</td>\n",
       "      <td>1995</td>\n",
       "    </tr>\n",
       "    <tr>\n",
       "      <th>2</th>\n",
       "      <td>3</td>\n",
       "      <td>Grumpier Old Men</td>\n",
       "      <td>Comedy|Romance</td>\n",
       "      <td>2.0</td>\n",
       "      <td>4.0</td>\n",
       "      <td>2000-11-21 15:34:49</td>\n",
       "      <td>1995</td>\n",
       "    </tr>\n",
       "    <tr>\n",
       "      <th>3</th>\n",
       "      <td>4</td>\n",
       "      <td>Waitingto Exhale</td>\n",
       "      <td>Comedy|Drama|Romance</td>\n",
       "      <td>41.0</td>\n",
       "      <td>2.0</td>\n",
       "      <td>2000-02-27 23:29:58</td>\n",
       "      <td>1995</td>\n",
       "    </tr>\n",
       "    <tr>\n",
       "      <th>4</th>\n",
       "      <td>5</td>\n",
       "      <td>Fatherofthe Bride Part II</td>\n",
       "      <td>Comedy</td>\n",
       "      <td>12.0</td>\n",
       "      <td>2.0</td>\n",
       "      <td>1997-03-22 20:49:34</td>\n",
       "      <td>1995</td>\n",
       "    </tr>\n",
       "  </tbody>\n",
       "</table>\n",
       "</div>"
      ],
      "text/plain": [
       "   movieId                      title  \\\n",
       "0        1                  Toy Story   \n",
       "1        2                    Jumanji   \n",
       "2        3           Grumpier Old Men   \n",
       "3        4           Waitingto Exhale   \n",
       "4        5  Fatherofthe Bride Part II   \n",
       "\n",
       "                                        genres  userId  rating  \\\n",
       "0  Adventure|Animation|Children|Comedy|Fantasy     3.0     4.0   \n",
       "1                   Adventure|Children|Fantasy     1.0     3.5   \n",
       "2                               Comedy|Romance     2.0     4.0   \n",
       "3                         Comedy|Drama|Romance    41.0     2.0   \n",
       "4                                       Comedy    12.0     2.0   \n",
       "\n",
       "             timestamp  year  \n",
       "0  1999-12-11 13:36:47  1995  \n",
       "1  2005-04-02 23:53:47  1995  \n",
       "2  2000-11-21 15:34:49  1995  \n",
       "3  2000-02-27 23:29:58  1995  \n",
       "4  1997-03-22 20:49:34  1995  "
      ]
     },
     "execution_count": 12,
     "metadata": {},
     "output_type": "execute_result"
    }
   ],
   "source": [
    "df.head()"
   ]
  },
  {
   "cell_type": "code",
   "execution_count": 13,
   "metadata": {},
   "outputs": [],
   "source": [
    "# separate genres\n",
    "\n",
    "import itertools as it\n",
    "genres = set(list(it.chain.from_iterable([g.split(', ') for g in df.genres if g])))"
   ]
  },
  {
   "cell_type": "code",
   "execution_count": 14,
   "metadata": {},
   "outputs": [],
   "source": [
    "variable_labels = {\n",
    "    'rating': 'rating',\n",
    "    'reviews_from_users': 'reviews_from_users',\n",
    "    'worldwide_gross_income': 'worldwide_gross_income',\n",
    "    'year_x': 'year_x',\n",
    "    'duration': 'duration'\n",
    "}"
   ]
  },
  {
   "cell_type": "code",
   "execution_count": 15,
   "metadata": {},
   "outputs": [
    {
     "name": "stderr",
     "output_type": "stream",
     "text": [
      "C:\\ProgramData\\Anaconda3\\lib\\site-packages\\ipykernel_launcher.py:2: SettingWithCopyWarning: \n",
      "A value is trying to be set on a copy of a slice from a DataFrame.\n",
      "Try using .loc[row_indexer,col_indexer] = value instead\n",
      "\n",
      "See the caveats in the documentation: https://pandas.pydata.org/pandas-docs/stable/user_guide/indexing.html#returning-a-view-versus-a-copy\n",
      "  \n"
     ]
    }
   ],
   "source": [
    "# change year to datetime object:\n",
    "df['year'] = pd.to_datetime(df['year'], format='%Y', errors='coerce')"
   ]
  },
  {
   "cell_type": "code",
   "execution_count": 16,
   "metadata": {},
   "outputs": [],
   "source": [
    "def to_integer(dt_time):\n",
    "    return (1*dt_time.year)"
   ]
  },
  {
   "cell_type": "code",
   "execution_count": 17,
   "metadata": {},
   "outputs": [],
   "source": [
    "r = pd.read_csv('IMDb movies.csv')"
   ]
  },
  {
   "cell_type": "code",
   "execution_count": 18,
   "metadata": {},
   "outputs": [],
   "source": [
    "# left join both data frames\n",
    "df = df.merge(r, on='title', how='left')"
   ]
  },
  {
   "cell_type": "code",
   "execution_count": 19,
   "metadata": {},
   "outputs": [],
   "source": [
    "df['year_x'] = df['year_x'].apply(to_integer)"
   ]
  },
  {
   "cell_type": "code",
   "execution_count": 20,
   "metadata": {},
   "outputs": [],
   "source": [
    "# imports:\n",
    "from jupyter_dash import JupyterDash\n",
    "import dash\n",
    "from dash.dependencies import Input, Output, State\n",
    "import dash_core_components as dcc\n",
    "import dash_html_components as html\n",
    "from dash import no_update"
   ]
  },
  {
   "cell_type": "code",
   "execution_count": 21,
   "metadata": {},
   "outputs": [
    {
     "data": {
      "text/html": [
       "<div>\n",
       "<style scoped>\n",
       "    .dataframe tbody tr th:only-of-type {\n",
       "        vertical-align: middle;\n",
       "    }\n",
       "\n",
       "    .dataframe tbody tr th {\n",
       "        vertical-align: top;\n",
       "    }\n",
       "\n",
       "    .dataframe thead th {\n",
       "        text-align: right;\n",
       "    }\n",
       "</style>\n",
       "<table border=\"1\" class=\"dataframe\">\n",
       "  <thead>\n",
       "    <tr style=\"text-align: right;\">\n",
       "      <th></th>\n",
       "      <th>movieId</th>\n",
       "      <th>title</th>\n",
       "      <th>genres</th>\n",
       "      <th>userId</th>\n",
       "      <th>rating</th>\n",
       "      <th>timestamp</th>\n",
       "      <th>year_x</th>\n",
       "      <th>imdb_title_id</th>\n",
       "      <th>original_title</th>\n",
       "      <th>year_y</th>\n",
       "      <th>...</th>\n",
       "      <th>actors</th>\n",
       "      <th>description</th>\n",
       "      <th>avg_vote</th>\n",
       "      <th>votes</th>\n",
       "      <th>budget</th>\n",
       "      <th>usa_gross_income</th>\n",
       "      <th>worlwide_gross_income</th>\n",
       "      <th>metascore</th>\n",
       "      <th>reviews_from_users</th>\n",
       "      <th>reviews_from_critics</th>\n",
       "    </tr>\n",
       "  </thead>\n",
       "  <tbody>\n",
       "    <tr>\n",
       "      <th>0</th>\n",
       "      <td>1</td>\n",
       "      <td>Toy Story</td>\n",
       "      <td>Adventure|Animation|Children|Comedy|Fantasy</td>\n",
       "      <td>3.0</td>\n",
       "      <td>4.0</td>\n",
       "      <td>1999-12-11 13:36:47</td>\n",
       "      <td>1995.0</td>\n",
       "      <td>tt0114709</td>\n",
       "      <td>Toy Story</td>\n",
       "      <td>1995.0</td>\n",
       "      <td>...</td>\n",
       "      <td>Tom Hanks, Tim Allen, Don Rickles, Jim Varney,...</td>\n",
       "      <td>A cowboy doll is profoundly threatened and jea...</td>\n",
       "      <td>8.3</td>\n",
       "      <td>822929.0</td>\n",
       "      <td>$ 30000000</td>\n",
       "      <td>$ 222498679</td>\n",
       "      <td>$ 406594102</td>\n",
       "      <td>95.0</td>\n",
       "      <td>538.0</td>\n",
       "      <td>193.0</td>\n",
       "    </tr>\n",
       "    <tr>\n",
       "      <th>1</th>\n",
       "      <td>2</td>\n",
       "      <td>Jumanji</td>\n",
       "      <td>Adventure|Children|Fantasy</td>\n",
       "      <td>1.0</td>\n",
       "      <td>3.5</td>\n",
       "      <td>2005-04-02 23:53:47</td>\n",
       "      <td>1995.0</td>\n",
       "      <td>tt0113497</td>\n",
       "      <td>Jumanji</td>\n",
       "      <td>1995.0</td>\n",
       "      <td>...</td>\n",
       "      <td>Robin Williams, Jonathan Hyde, Kirsten Dunst, ...</td>\n",
       "      <td>When two kids find and play a magical board ga...</td>\n",
       "      <td>7.0</td>\n",
       "      <td>278445.0</td>\n",
       "      <td>$ 65000000</td>\n",
       "      <td>$ 100499940</td>\n",
       "      <td>$ 262821940</td>\n",
       "      <td>39.0</td>\n",
       "      <td>220.0</td>\n",
       "      <td>101.0</td>\n",
       "    </tr>\n",
       "    <tr>\n",
       "      <th>2</th>\n",
       "      <td>3</td>\n",
       "      <td>Grumpier Old Men</td>\n",
       "      <td>Comedy|Romance</td>\n",
       "      <td>2.0</td>\n",
       "      <td>4.0</td>\n",
       "      <td>2000-11-21 15:34:49</td>\n",
       "      <td>1995.0</td>\n",
       "      <td>tt0113228</td>\n",
       "      <td>Grumpier Old Men</td>\n",
       "      <td>1995.0</td>\n",
       "      <td>...</td>\n",
       "      <td>Walter Matthau, Jack Lemmon, Sophia Loren, Ann...</td>\n",
       "      <td>John and Max resolve to save their beloved bai...</td>\n",
       "      <td>6.7</td>\n",
       "      <td>22794.0</td>\n",
       "      <td>$ 25000000</td>\n",
       "      <td>$ 71518503</td>\n",
       "      <td>$ 71518503</td>\n",
       "      <td>46.0</td>\n",
       "      <td>61.0</td>\n",
       "      <td>26.0</td>\n",
       "    </tr>\n",
       "    <tr>\n",
       "      <th>3</th>\n",
       "      <td>4</td>\n",
       "      <td>Waitingto Exhale</td>\n",
       "      <td>Comedy|Drama|Romance</td>\n",
       "      <td>41.0</td>\n",
       "      <td>2.0</td>\n",
       "      <td>2000-02-27 23:29:58</td>\n",
       "      <td>1995.0</td>\n",
       "      <td>NaN</td>\n",
       "      <td>NaN</td>\n",
       "      <td>NaN</td>\n",
       "      <td>...</td>\n",
       "      <td>NaN</td>\n",
       "      <td>NaN</td>\n",
       "      <td>NaN</td>\n",
       "      <td>NaN</td>\n",
       "      <td>NaN</td>\n",
       "      <td>NaN</td>\n",
       "      <td>NaN</td>\n",
       "      <td>NaN</td>\n",
       "      <td>NaN</td>\n",
       "      <td>NaN</td>\n",
       "    </tr>\n",
       "    <tr>\n",
       "      <th>4</th>\n",
       "      <td>5</td>\n",
       "      <td>Fatherofthe Bride Part II</td>\n",
       "      <td>Comedy</td>\n",
       "      <td>12.0</td>\n",
       "      <td>2.0</td>\n",
       "      <td>1997-03-22 20:49:34</td>\n",
       "      <td>1995.0</td>\n",
       "      <td>NaN</td>\n",
       "      <td>NaN</td>\n",
       "      <td>NaN</td>\n",
       "      <td>...</td>\n",
       "      <td>NaN</td>\n",
       "      <td>NaN</td>\n",
       "      <td>NaN</td>\n",
       "      <td>NaN</td>\n",
       "      <td>NaN</td>\n",
       "      <td>NaN</td>\n",
       "      <td>NaN</td>\n",
       "      <td>NaN</td>\n",
       "      <td>NaN</td>\n",
       "      <td>NaN</td>\n",
       "    </tr>\n",
       "  </tbody>\n",
       "</table>\n",
       "<p>5 rows × 28 columns</p>\n",
       "</div>"
      ],
      "text/plain": [
       "   movieId                      title  \\\n",
       "0        1                  Toy Story   \n",
       "1        2                    Jumanji   \n",
       "2        3           Grumpier Old Men   \n",
       "3        4           Waitingto Exhale   \n",
       "4        5  Fatherofthe Bride Part II   \n",
       "\n",
       "                                        genres  userId  rating  \\\n",
       "0  Adventure|Animation|Children|Comedy|Fantasy     3.0     4.0   \n",
       "1                   Adventure|Children|Fantasy     1.0     3.5   \n",
       "2                               Comedy|Romance     2.0     4.0   \n",
       "3                         Comedy|Drama|Romance    41.0     2.0   \n",
       "4                                       Comedy    12.0     2.0   \n",
       "\n",
       "             timestamp  year_x imdb_title_id    original_title  year_y  ...  \\\n",
       "0  1999-12-11 13:36:47  1995.0     tt0114709         Toy Story  1995.0  ...   \n",
       "1  2005-04-02 23:53:47  1995.0     tt0113497           Jumanji  1995.0  ...   \n",
       "2  2000-11-21 15:34:49  1995.0     tt0113228  Grumpier Old Men  1995.0  ...   \n",
       "3  2000-02-27 23:29:58  1995.0           NaN               NaN     NaN  ...   \n",
       "4  1997-03-22 20:49:34  1995.0           NaN               NaN     NaN  ...   \n",
       "\n",
       "                                              actors  \\\n",
       "0  Tom Hanks, Tim Allen, Don Rickles, Jim Varney,...   \n",
       "1  Robin Williams, Jonathan Hyde, Kirsten Dunst, ...   \n",
       "2  Walter Matthau, Jack Lemmon, Sophia Loren, Ann...   \n",
       "3                                                NaN   \n",
       "4                                                NaN   \n",
       "\n",
       "                                         description  avg_vote     votes  \\\n",
       "0  A cowboy doll is profoundly threatened and jea...       8.3  822929.0   \n",
       "1  When two kids find and play a magical board ga...       7.0  278445.0   \n",
       "2  John and Max resolve to save their beloved bai...       6.7   22794.0   \n",
       "3                                                NaN       NaN       NaN   \n",
       "4                                                NaN       NaN       NaN   \n",
       "\n",
       "       budget usa_gross_income worlwide_gross_income metascore  \\\n",
       "0  $ 30000000      $ 222498679           $ 406594102      95.0   \n",
       "1  $ 65000000      $ 100499940           $ 262821940      39.0   \n",
       "2  $ 25000000       $ 71518503            $ 71518503      46.0   \n",
       "3         NaN              NaN                   NaN       NaN   \n",
       "4         NaN              NaN                   NaN       NaN   \n",
       "\n",
       "  reviews_from_users reviews_from_critics  \n",
       "0              538.0                193.0  \n",
       "1              220.0                101.0  \n",
       "2               61.0                 26.0  \n",
       "3                NaN                  NaN  \n",
       "4                NaN                  NaN  \n",
       "\n",
       "[5 rows x 28 columns]"
      ]
     },
     "execution_count": 21,
     "metadata": {},
     "output_type": "execute_result"
    }
   ],
   "source": [
    "df.head()"
   ]
  },
  {
   "cell_type": "code",
   "execution_count": 22,
   "metadata": {},
   "outputs": [
    {
     "name": "stdout",
     "output_type": "stream",
     "text": [
      "<class 'pandas.core.frame.DataFrame'>\n",
      "Int64Index: 30527 entries, 0 to 30526\n",
      "Data columns (total 28 columns):\n",
      " #   Column                 Non-Null Count  Dtype  \n",
      "---  ------                 --------------  -----  \n",
      " 0   movieId                30527 non-null  int64  \n",
      " 1   title                  30527 non-null  object \n",
      " 2   genres                 30527 non-null  object \n",
      " 3   userId                 29923 non-null  float64\n",
      " 4   rating                 29923 non-null  float64\n",
      " 5   timestamp              29923 non-null  object \n",
      " 6   year_x                 25304 non-null  float64\n",
      " 7   imdb_title_id          11698 non-null  object \n",
      " 8   original_title         11698 non-null  object \n",
      " 9   year_y                 11698 non-null  float64\n",
      " 10  date_published         11698 non-null  object \n",
      " 11  genre                  11698 non-null  object \n",
      " 12  duration               11698 non-null  float64\n",
      " 13  country                11698 non-null  object \n",
      " 14  language               11614 non-null  object \n",
      " 15  director               11697 non-null  object \n",
      " 16  writer                 11637 non-null  object \n",
      " 17  production_company     11500 non-null  object \n",
      " 18  actors                 11698 non-null  object \n",
      " 19  description            11645 non-null  object \n",
      " 20  avg_vote               11698 non-null  float64\n",
      " 21  votes                  11698 non-null  float64\n",
      " 22  budget                 5728 non-null   object \n",
      " 23  usa_gross_income       5481 non-null   object \n",
      " 24  worlwide_gross_income  6467 non-null   object \n",
      " 25  metascore              4594 non-null   float64\n",
      " 26  reviews_from_users     11542 non-null  float64\n",
      " 27  reviews_from_critics   11363 non-null  float64\n",
      "dtypes: float64(10), int64(1), object(17)\n",
      "memory usage: 6.8+ MB\n"
     ]
    }
   ],
   "source": [
    "# categories to keep:\n",
    "df.info()"
   ]
  },
  {
   "cell_type": "markdown",
   "metadata": {},
   "source": [
    "Columns to keep:\n",
    "title, genres, rating, year_x, director, actors, worldwide_gross_income, reviews_from_users"
   ]
  },
  {
   "cell_type": "markdown",
   "metadata": {},
   "source": [
    "Drop the rest. Rename some of these. Columns to add: Bechdel Scores"
   ]
  },
  {
   "cell_type": "code",
   "execution_count": 23,
   "metadata": {},
   "outputs": [],
   "source": [
    "dfLatest = df[['title','genres','rating','year_x','director','actors','worlwide_gross_income','reviews_from_users']]"
   ]
  },
  {
   "cell_type": "code",
   "execution_count": 24,
   "metadata": {},
   "outputs": [],
   "source": [
    "# drop genres:\n",
    "dfLatest = dfLatest.drop('genres',axis=1)"
   ]
  },
  {
   "cell_type": "code",
   "execution_count": 25,
   "metadata": {},
   "outputs": [],
   "source": [
    "# change worldwide gross income column to numeric:\n",
    "dfLatest.worlwide_gross_income = dfLatest.worlwide_gross_income.str.replace('INR' , '')"
   ]
  },
  {
   "cell_type": "code",
   "execution_count": 26,
   "metadata": {},
   "outputs": [],
   "source": [
    "# change worldwide gross income column to numeric:\n",
    "dfLatest.worlwide_gross_income = dfLatest.worlwide_gross_income.str.replace('$' , '')"
   ]
  },
  {
   "cell_type": "code",
   "execution_count": 27,
   "metadata": {},
   "outputs": [],
   "source": [
    "dfLatest.worlwide_gross_income = pd.to_numeric(dfLatest['worlwide_gross_income'])"
   ]
  },
  {
   "cell_type": "code",
   "execution_count": 28,
   "metadata": {},
   "outputs": [
    {
     "data": {
      "text/html": [
       "<div>\n",
       "<style scoped>\n",
       "    .dataframe tbody tr th:only-of-type {\n",
       "        vertical-align: middle;\n",
       "    }\n",
       "\n",
       "    .dataframe tbody tr th {\n",
       "        vertical-align: top;\n",
       "    }\n",
       "\n",
       "    .dataframe thead th {\n",
       "        text-align: right;\n",
       "    }\n",
       "</style>\n",
       "<table border=\"1\" class=\"dataframe\">\n",
       "  <thead>\n",
       "    <tr style=\"text-align: right;\">\n",
       "      <th></th>\n",
       "      <th>title</th>\n",
       "      <th>rating</th>\n",
       "      <th>year_x</th>\n",
       "      <th>director</th>\n",
       "      <th>actors</th>\n",
       "      <th>worlwide_gross_income</th>\n",
       "      <th>reviews_from_users</th>\n",
       "    </tr>\n",
       "  </thead>\n",
       "  <tbody>\n",
       "    <tr>\n",
       "      <th>0</th>\n",
       "      <td>Toy Story</td>\n",
       "      <td>4.0</td>\n",
       "      <td>1995.0</td>\n",
       "      <td>John Lasseter</td>\n",
       "      <td>Tom Hanks, Tim Allen, Don Rickles, Jim Varney,...</td>\n",
       "      <td>406594102.0</td>\n",
       "      <td>538.0</td>\n",
       "    </tr>\n",
       "    <tr>\n",
       "      <th>1</th>\n",
       "      <td>Jumanji</td>\n",
       "      <td>3.5</td>\n",
       "      <td>1995.0</td>\n",
       "      <td>Joe Johnston</td>\n",
       "      <td>Robin Williams, Jonathan Hyde, Kirsten Dunst, ...</td>\n",
       "      <td>262821940.0</td>\n",
       "      <td>220.0</td>\n",
       "    </tr>\n",
       "    <tr>\n",
       "      <th>2</th>\n",
       "      <td>Grumpier Old Men</td>\n",
       "      <td>4.0</td>\n",
       "      <td>1995.0</td>\n",
       "      <td>Howard Deutch</td>\n",
       "      <td>Walter Matthau, Jack Lemmon, Sophia Loren, Ann...</td>\n",
       "      <td>71518503.0</td>\n",
       "      <td>61.0</td>\n",
       "    </tr>\n",
       "    <tr>\n",
       "      <th>3</th>\n",
       "      <td>Waitingto Exhale</td>\n",
       "      <td>2.0</td>\n",
       "      <td>1995.0</td>\n",
       "      <td>NaN</td>\n",
       "      <td>NaN</td>\n",
       "      <td>NaN</td>\n",
       "      <td>NaN</td>\n",
       "    </tr>\n",
       "    <tr>\n",
       "      <th>4</th>\n",
       "      <td>Fatherofthe Bride Part II</td>\n",
       "      <td>2.0</td>\n",
       "      <td>1995.0</td>\n",
       "      <td>NaN</td>\n",
       "      <td>NaN</td>\n",
       "      <td>NaN</td>\n",
       "      <td>NaN</td>\n",
       "    </tr>\n",
       "  </tbody>\n",
       "</table>\n",
       "</div>"
      ],
      "text/plain": [
       "                       title  rating  year_x       director  \\\n",
       "0                  Toy Story     4.0  1995.0  John Lasseter   \n",
       "1                    Jumanji     3.5  1995.0   Joe Johnston   \n",
       "2           Grumpier Old Men     4.0  1995.0  Howard Deutch   \n",
       "3           Waitingto Exhale     2.0  1995.0            NaN   \n",
       "4  Fatherofthe Bride Part II     2.0  1995.0            NaN   \n",
       "\n",
       "                                              actors  worlwide_gross_income  \\\n",
       "0  Tom Hanks, Tim Allen, Don Rickles, Jim Varney,...            406594102.0   \n",
       "1  Robin Williams, Jonathan Hyde, Kirsten Dunst, ...            262821940.0   \n",
       "2  Walter Matthau, Jack Lemmon, Sophia Loren, Ann...             71518503.0   \n",
       "3                                                NaN                    NaN   \n",
       "4                                                NaN                    NaN   \n",
       "\n",
       "   reviews_from_users  \n",
       "0               538.0  \n",
       "1               220.0  \n",
       "2                61.0  \n",
       "3                 NaN  \n",
       "4                 NaN  "
      ]
     },
     "execution_count": 28,
     "metadata": {},
     "output_type": "execute_result"
    }
   ],
   "source": [
    "dfLatest.head()"
   ]
  },
  {
   "cell_type": "code",
   "execution_count": 29,
   "metadata": {},
   "outputs": [],
   "source": [
    "dfLatest['duration'] = df['duration']"
   ]
  },
  {
   "cell_type": "code",
   "execution_count": 30,
   "metadata": {},
   "outputs": [],
   "source": [
    "# rename columns: year_x, worlwide_gross_income, reviews_from_users:"
   ]
  },
  {
   "cell_type": "code",
   "execution_count": 31,
   "metadata": {},
   "outputs": [],
   "source": [
    "dfLatest.columns=['title','rating','year','director','cast','revenue','reviews','duration']"
   ]
  },
  {
   "cell_type": "code",
   "execution_count": 32,
   "metadata": {},
   "outputs": [
    {
     "data": {
      "text/html": [
       "<div>\n",
       "<style scoped>\n",
       "    .dataframe tbody tr th:only-of-type {\n",
       "        vertical-align: middle;\n",
       "    }\n",
       "\n",
       "    .dataframe tbody tr th {\n",
       "        vertical-align: top;\n",
       "    }\n",
       "\n",
       "    .dataframe thead th {\n",
       "        text-align: right;\n",
       "    }\n",
       "</style>\n",
       "<table border=\"1\" class=\"dataframe\">\n",
       "  <thead>\n",
       "    <tr style=\"text-align: right;\">\n",
       "      <th></th>\n",
       "      <th>title</th>\n",
       "      <th>rating</th>\n",
       "      <th>year</th>\n",
       "      <th>director</th>\n",
       "      <th>cast</th>\n",
       "      <th>revenue</th>\n",
       "      <th>reviews</th>\n",
       "      <th>duration</th>\n",
       "    </tr>\n",
       "  </thead>\n",
       "  <tbody>\n",
       "    <tr>\n",
       "      <th>0</th>\n",
       "      <td>Toy Story</td>\n",
       "      <td>4.0</td>\n",
       "      <td>1995.0</td>\n",
       "      <td>John Lasseter</td>\n",
       "      <td>Tom Hanks, Tim Allen, Don Rickles, Jim Varney,...</td>\n",
       "      <td>406594102.0</td>\n",
       "      <td>538.0</td>\n",
       "      <td>81.0</td>\n",
       "    </tr>\n",
       "    <tr>\n",
       "      <th>1</th>\n",
       "      <td>Jumanji</td>\n",
       "      <td>3.5</td>\n",
       "      <td>1995.0</td>\n",
       "      <td>Joe Johnston</td>\n",
       "      <td>Robin Williams, Jonathan Hyde, Kirsten Dunst, ...</td>\n",
       "      <td>262821940.0</td>\n",
       "      <td>220.0</td>\n",
       "      <td>104.0</td>\n",
       "    </tr>\n",
       "    <tr>\n",
       "      <th>2</th>\n",
       "      <td>Grumpier Old Men</td>\n",
       "      <td>4.0</td>\n",
       "      <td>1995.0</td>\n",
       "      <td>Howard Deutch</td>\n",
       "      <td>Walter Matthau, Jack Lemmon, Sophia Loren, Ann...</td>\n",
       "      <td>71518503.0</td>\n",
       "      <td>61.0</td>\n",
       "      <td>101.0</td>\n",
       "    </tr>\n",
       "    <tr>\n",
       "      <th>3</th>\n",
       "      <td>Waitingto Exhale</td>\n",
       "      <td>2.0</td>\n",
       "      <td>1995.0</td>\n",
       "      <td>NaN</td>\n",
       "      <td>NaN</td>\n",
       "      <td>NaN</td>\n",
       "      <td>NaN</td>\n",
       "      <td>NaN</td>\n",
       "    </tr>\n",
       "    <tr>\n",
       "      <th>4</th>\n",
       "      <td>Fatherofthe Bride Part II</td>\n",
       "      <td>2.0</td>\n",
       "      <td>1995.0</td>\n",
       "      <td>NaN</td>\n",
       "      <td>NaN</td>\n",
       "      <td>NaN</td>\n",
       "      <td>NaN</td>\n",
       "      <td>NaN</td>\n",
       "    </tr>\n",
       "  </tbody>\n",
       "</table>\n",
       "</div>"
      ],
      "text/plain": [
       "                       title  rating    year       director  \\\n",
       "0                  Toy Story     4.0  1995.0  John Lasseter   \n",
       "1                    Jumanji     3.5  1995.0   Joe Johnston   \n",
       "2           Grumpier Old Men     4.0  1995.0  Howard Deutch   \n",
       "3           Waitingto Exhale     2.0  1995.0            NaN   \n",
       "4  Fatherofthe Bride Part II     2.0  1995.0            NaN   \n",
       "\n",
       "                                                cast      revenue  reviews  \\\n",
       "0  Tom Hanks, Tim Allen, Don Rickles, Jim Varney,...  406594102.0    538.0   \n",
       "1  Robin Williams, Jonathan Hyde, Kirsten Dunst, ...  262821940.0    220.0   \n",
       "2  Walter Matthau, Jack Lemmon, Sophia Loren, Ann...   71518503.0     61.0   \n",
       "3                                                NaN          NaN      NaN   \n",
       "4                                                NaN          NaN      NaN   \n",
       "\n",
       "   duration  \n",
       "0      81.0  \n",
       "1     104.0  \n",
       "2     101.0  \n",
       "3       NaN  \n",
       "4       NaN  "
      ]
     },
     "execution_count": 32,
     "metadata": {},
     "output_type": "execute_result"
    }
   ],
   "source": [
    "dfLatest.head()"
   ]
  },
  {
   "cell_type": "code",
   "execution_count": 33,
   "metadata": {},
   "outputs": [],
   "source": [
    "# add bechdel scores to dataframe:\n",
    "import urllib, json\n",
    "import pandas as pd\n",
    "bechdel = pd.read_json('http://bechdeltest.com/api/v1/getAllMovies')"
   ]
  },
  {
   "cell_type": "code",
   "execution_count": 34,
   "metadata": {},
   "outputs": [
    {
     "data": {
      "text/html": [
       "<div>\n",
       "<style scoped>\n",
       "    .dataframe tbody tr th:only-of-type {\n",
       "        vertical-align: middle;\n",
       "    }\n",
       "\n",
       "    .dataframe tbody tr th {\n",
       "        vertical-align: top;\n",
       "    }\n",
       "\n",
       "    .dataframe thead th {\n",
       "        text-align: right;\n",
       "    }\n",
       "</style>\n",
       "<table border=\"1\" class=\"dataframe\">\n",
       "  <thead>\n",
       "    <tr style=\"text-align: right;\">\n",
       "      <th></th>\n",
       "      <th>imdbid</th>\n",
       "      <th>year</th>\n",
       "      <th>rating</th>\n",
       "      <th>title</th>\n",
       "      <th>id</th>\n",
       "    </tr>\n",
       "  </thead>\n",
       "  <tbody>\n",
       "    <tr>\n",
       "      <th>0</th>\n",
       "      <td>0392728</td>\n",
       "      <td>1888</td>\n",
       "      <td>0</td>\n",
       "      <td>Roundhay Garden Scene</td>\n",
       "      <td>8040</td>\n",
       "    </tr>\n",
       "    <tr>\n",
       "      <th>1</th>\n",
       "      <td>0000003</td>\n",
       "      <td>1892</td>\n",
       "      <td>0</td>\n",
       "      <td>Pauvre Pierrot</td>\n",
       "      <td>5433</td>\n",
       "    </tr>\n",
       "    <tr>\n",
       "      <th>2</th>\n",
       "      <td>0132134</td>\n",
       "      <td>1895</td>\n",
       "      <td>0</td>\n",
       "      <td>Execution of Mary, Queen of Scots, The</td>\n",
       "      <td>6200</td>\n",
       "    </tr>\n",
       "    <tr>\n",
       "      <th>3</th>\n",
       "      <td>0000014</td>\n",
       "      <td>1895</td>\n",
       "      <td>0</td>\n",
       "      <td>Tables Turned on the Gardener</td>\n",
       "      <td>5444</td>\n",
       "    </tr>\n",
       "    <tr>\n",
       "      <th>4</th>\n",
       "      <td>0000131</td>\n",
       "      <td>1896</td>\n",
       "      <td>0</td>\n",
       "      <td>Une nuit terrible</td>\n",
       "      <td>5406</td>\n",
       "    </tr>\n",
       "  </tbody>\n",
       "</table>\n",
       "</div>"
      ],
      "text/plain": [
       "    imdbid  year  rating                                   title    id\n",
       "0  0392728  1888       0                   Roundhay Garden Scene  8040\n",
       "1  0000003  1892       0                          Pauvre Pierrot  5433\n",
       "2  0132134  1895       0  Execution of Mary, Queen of Scots, The  6200\n",
       "3  0000014  1895       0           Tables Turned on the Gardener  5444\n",
       "4  0000131  1896       0                       Une nuit terrible  5406"
      ]
     },
     "execution_count": 34,
     "metadata": {},
     "output_type": "execute_result"
    }
   ],
   "source": [
    "bechdel.head()"
   ]
  },
  {
   "cell_type": "code",
   "execution_count": 35,
   "metadata": {},
   "outputs": [],
   "source": [
    "# join on title (left)\n",
    "dfLatest = dfLatest.merge(bechdel, on='title', how='left')"
   ]
  },
  {
   "cell_type": "code",
   "execution_count": 36,
   "metadata": {},
   "outputs": [],
   "source": [
    "# rename rating_y to bechdel score\n",
    "# remove: id,year_y, imdbid"
   ]
  },
  {
   "cell_type": "code",
   "execution_count": 37,
   "metadata": {},
   "outputs": [],
   "source": [
    "dfLatest = dfLatest.drop(['id','year_y','imdbid'],axis=1)"
   ]
  },
  {
   "cell_type": "code",
   "execution_count": 38,
   "metadata": {},
   "outputs": [
    {
     "data": {
      "text/html": [
       "<div>\n",
       "<style scoped>\n",
       "    .dataframe tbody tr th:only-of-type {\n",
       "        vertical-align: middle;\n",
       "    }\n",
       "\n",
       "    .dataframe tbody tr th {\n",
       "        vertical-align: top;\n",
       "    }\n",
       "\n",
       "    .dataframe thead th {\n",
       "        text-align: right;\n",
       "    }\n",
       "</style>\n",
       "<table border=\"1\" class=\"dataframe\">\n",
       "  <thead>\n",
       "    <tr style=\"text-align: right;\">\n",
       "      <th></th>\n",
       "      <th>title</th>\n",
       "      <th>rating_x</th>\n",
       "      <th>year_x</th>\n",
       "      <th>director</th>\n",
       "      <th>cast</th>\n",
       "      <th>revenue</th>\n",
       "      <th>reviews</th>\n",
       "      <th>duration</th>\n",
       "      <th>rating_y</th>\n",
       "    </tr>\n",
       "  </thead>\n",
       "  <tbody>\n",
       "    <tr>\n",
       "      <th>0</th>\n",
       "      <td>Toy Story</td>\n",
       "      <td>4.0</td>\n",
       "      <td>1995.0</td>\n",
       "      <td>John Lasseter</td>\n",
       "      <td>Tom Hanks, Tim Allen, Don Rickles, Jim Varney,...</td>\n",
       "      <td>406594102.0</td>\n",
       "      <td>538.0</td>\n",
       "      <td>81.0</td>\n",
       "      <td>1.0</td>\n",
       "    </tr>\n",
       "    <tr>\n",
       "      <th>1</th>\n",
       "      <td>Jumanji</td>\n",
       "      <td>3.5</td>\n",
       "      <td>1995.0</td>\n",
       "      <td>Joe Johnston</td>\n",
       "      <td>Robin Williams, Jonathan Hyde, Kirsten Dunst, ...</td>\n",
       "      <td>262821940.0</td>\n",
       "      <td>220.0</td>\n",
       "      <td>104.0</td>\n",
       "      <td>3.0</td>\n",
       "    </tr>\n",
       "    <tr>\n",
       "      <th>2</th>\n",
       "      <td>Grumpier Old Men</td>\n",
       "      <td>4.0</td>\n",
       "      <td>1995.0</td>\n",
       "      <td>Howard Deutch</td>\n",
       "      <td>Walter Matthau, Jack Lemmon, Sophia Loren, Ann...</td>\n",
       "      <td>71518503.0</td>\n",
       "      <td>61.0</td>\n",
       "      <td>101.0</td>\n",
       "      <td>NaN</td>\n",
       "    </tr>\n",
       "    <tr>\n",
       "      <th>3</th>\n",
       "      <td>Waitingto Exhale</td>\n",
       "      <td>2.0</td>\n",
       "      <td>1995.0</td>\n",
       "      <td>NaN</td>\n",
       "      <td>NaN</td>\n",
       "      <td>NaN</td>\n",
       "      <td>NaN</td>\n",
       "      <td>NaN</td>\n",
       "      <td>NaN</td>\n",
       "    </tr>\n",
       "    <tr>\n",
       "      <th>4</th>\n",
       "      <td>Fatherofthe Bride Part II</td>\n",
       "      <td>2.0</td>\n",
       "      <td>1995.0</td>\n",
       "      <td>NaN</td>\n",
       "      <td>NaN</td>\n",
       "      <td>NaN</td>\n",
       "      <td>NaN</td>\n",
       "      <td>NaN</td>\n",
       "      <td>NaN</td>\n",
       "    </tr>\n",
       "  </tbody>\n",
       "</table>\n",
       "</div>"
      ],
      "text/plain": [
       "                       title  rating_x  year_x       director  \\\n",
       "0                  Toy Story       4.0  1995.0  John Lasseter   \n",
       "1                    Jumanji       3.5  1995.0   Joe Johnston   \n",
       "2           Grumpier Old Men       4.0  1995.0  Howard Deutch   \n",
       "3           Waitingto Exhale       2.0  1995.0            NaN   \n",
       "4  Fatherofthe Bride Part II       2.0  1995.0            NaN   \n",
       "\n",
       "                                                cast      revenue  reviews  \\\n",
       "0  Tom Hanks, Tim Allen, Don Rickles, Jim Varney,...  406594102.0    538.0   \n",
       "1  Robin Williams, Jonathan Hyde, Kirsten Dunst, ...  262821940.0    220.0   \n",
       "2  Walter Matthau, Jack Lemmon, Sophia Loren, Ann...   71518503.0     61.0   \n",
       "3                                                NaN          NaN      NaN   \n",
       "4                                                NaN          NaN      NaN   \n",
       "\n",
       "   duration  rating_y  \n",
       "0      81.0       1.0  \n",
       "1     104.0       3.0  \n",
       "2     101.0       NaN  \n",
       "3       NaN       NaN  \n",
       "4       NaN       NaN  "
      ]
     },
     "execution_count": 38,
     "metadata": {},
     "output_type": "execute_result"
    }
   ],
   "source": [
    "dfLatest.head()"
   ]
  },
  {
   "cell_type": "code",
   "execution_count": 39,
   "metadata": {},
   "outputs": [],
   "source": [
    "dfLatest.columns=['title','rating','year','director','cast','revenue','reviews','duration','bechdel']"
   ]
  },
  {
   "cell_type": "code",
   "execution_count": 40,
   "metadata": {},
   "outputs": [],
   "source": [
    "dfLatest['genres'] = df['genres']"
   ]
  },
  {
   "cell_type": "code",
   "execution_count": 41,
   "metadata": {},
   "outputs": [
    {
     "name": "stdout",
     "output_type": "stream",
     "text": [
      "<class 'pandas.core.frame.DataFrame'>\n",
      "Int64Index: 31367 entries, 0 to 31366\n",
      "Data columns (total 10 columns):\n",
      " #   Column    Non-Null Count  Dtype  \n",
      "---  ------    --------------  -----  \n",
      " 0   title     31367 non-null  object \n",
      " 1   rating    30748 non-null  float64\n",
      " 2   year      26144 non-null  float64\n",
      " 3   director  12535 non-null  object \n",
      " 4   cast      12536 non-null  object \n",
      " 5   revenue   6941 non-null   float64\n",
      " 6   reviews   12375 non-null  float64\n",
      " 7   duration  12536 non-null  float64\n",
      " 8   bechdel   5290 non-null   float64\n",
      " 9   genres    30527 non-null  object \n",
      "dtypes: float64(6), object(4)\n",
      "memory usage: 2.6+ MB\n"
     ]
    }
   ],
   "source": [
    "dfLatest.info()"
   ]
  },
  {
   "cell_type": "code",
   "execution_count": 42,
   "metadata": {},
   "outputs": [],
   "source": [
    "# change bechdel score to categorical:\n",
    "dfLatest['bechdel'] = dfLatest.bechdel.astype('category').cat.as_ordered()"
   ]
  },
  {
   "cell_type": "code",
   "execution_count": 43,
   "metadata": {},
   "outputs": [
    {
     "name": "stdout",
     "output_type": "stream",
     "text": [
      "<class 'pandas.core.frame.DataFrame'>\n",
      "Int64Index: 31367 entries, 0 to 31366\n",
      "Data columns (total 10 columns):\n",
      " #   Column    Non-Null Count  Dtype   \n",
      "---  ------    --------------  -----   \n",
      " 0   title     31367 non-null  object  \n",
      " 1   rating    30748 non-null  float64 \n",
      " 2   year      26144 non-null  float64 \n",
      " 3   director  12535 non-null  object  \n",
      " 4   cast      12536 non-null  object  \n",
      " 5   revenue   6941 non-null   float64 \n",
      " 6   reviews   12375 non-null  float64 \n",
      " 7   duration  12536 non-null  float64 \n",
      " 8   bechdel   5290 non-null   category\n",
      " 9   genres    30527 non-null  object  \n",
      "dtypes: category(1), float64(5), object(4)\n",
      "memory usage: 2.4+ MB\n"
     ]
    }
   ],
   "source": [
    "dfLatest.info()"
   ]
  },
  {
   "cell_type": "code",
   "execution_count": 44,
   "metadata": {},
   "outputs": [],
   "source": [
    "# variables to be used: dfLatest, genres, variable labels:"
   ]
  },
  {
   "cell_type": "code",
   "execution_count": 45,
   "metadata": {},
   "outputs": [
    {
     "data": {
      "text/plain": [
       "0        1.0\n",
       "1        3.0\n",
       "2        NaN\n",
       "3        NaN\n",
       "4        NaN\n",
       "        ... \n",
       "31362    3.0\n",
       "31363    3.0\n",
       "31364    3.0\n",
       "31365    3.0\n",
       "31366    3.0\n",
       "Name: bechdel, Length: 31367, dtype: category\n",
       "Categories (4, float64): [0.0 < 1.0 < 2.0 < 3.0]"
      ]
     },
     "execution_count": 45,
     "metadata": {},
     "output_type": "execute_result"
    }
   ],
   "source": [
    "dfLatest['bechdel']"
   ]
  },
  {
   "cell_type": "code",
   "execution_count": 46,
   "metadata": {},
   "outputs": [],
   "source": [
    "variable_labels = {\n",
    "    'rating': 'rating',\n",
    "    'year': 'year',\n",
    "    'reviews': 'reviews',\n",
    "    'revenue': 'revenue',\n",
    "    'duration': 'duration'\n",
    "}"
   ]
  },
  {
   "cell_type": "code",
   "execution_count": 47,
   "metadata": {},
   "outputs": [],
   "source": [
    "# Set app layout\n",
    "import plotly.graph_objs as go\n",
    "app = JupyterDash()\n",
    "app.layout = html.Div([\n",
    "    html.H1('Welcome to Our Movie Dashboard!'),\n",
    "    html.Div([\n",
    "        html.Label('Number of Reviews'),\n",
    "        dcc.Slider(\n",
    "            id='nb-reviews-slider',\n",
    "            min=dfLatest.reviews.min(),\n",
    "            max=dfLatest.reviews.max(),\n",
    "            marks={str(rvw): str(rvw) for rvw in range(int(dfLatest.reviews.min()), len(dfLatest.reviews.unique()), 100)},\n",
    "            value=dfLatest.reviews.min(),\n",
    "            step=None\n",
    "        ),\n",
    "        html.Br(),\n",
    "        html.Label('Year'),\n",
    "        dcc.RangeSlider(\n",
    "            id='year-released-range-slider',\n",
    "            min=dfLatest.year.min(),\n",
    "            max=dfLatest.year.max(),\n",
    "            marks={str(y): str(y) for y in range(int(dfLatest.year.min()), int(dfLatest.year.max()), 5)},\n",
    "            value=[dfLatest.year.min(), dfLatest.year.max()]\n",
    "        ),\n",
    "        html.Br(),\n",
    "        html.Label('Bechdel Score Category (0-3)'),\n",
    "        dcc.Slider(\n",
    "            id='oscars-won-slider',\n",
    "            min=dfLatest.bechdel.min(),\n",
    "            max=dfLatest.bechdel.max(),\n",
    "            marks={str(o): str(o) for o in range(int(dfLatest.bechdel.min()), int(dfLatest.bechdel.max()), 1)},\n",
    "            value=dfLatest.bechdel.min(),\n",
    "            step=None\n",
    "        ),\n",
    "        html.Br(),\n",
    "        html.Label('Revenue in Millions'),\n",
    "        dcc.RangeSlider(\n",
    "            id='dollars-boxoffice-range-slider',\n",
    "            min=0,\n",
    "            max=800,\n",
    "            marks={str(y): str(y) for y in range(0, 800, 20)},\n",
    "            value=[0, 800],\n",
    "        ),\n",
    "        html.Br(),\n",
    "        html.Label('Genre)'),\n",
    "        dcc.Dropdown(\n",
    "            id='genre-dropdown',\n",
    "            options=[\n",
    "                {'label': genre.upper(), 'value': genre} for genre in genres\n",
    "            ],\n",
    "            multi=False\n",
    "        ),\n",
    "        html.Br(),\n",
    "    ], style={'marginLeft': 25, 'marginRight': 25}\n",
    "    ),\n",
    "    html.Div([\n",
    "        html.Br(),\n",
    "        html.Label('X-axis variable'),\n",
    "        dcc.Dropdown(\n",
    "            id='x-axis-dropdown',\n",
    "            options=[\n",
    "                {'label': label, 'value': value} for value, label in variable_labels.items()\n",
    "            ],\n",
    "            multi=False,\n",
    "            value='duration'\n",
    "        ),\n",
    "        html.Br(),\n",
    "        html.Label('Y-axis variable'),\n",
    "        dcc.Dropdown(\n",
    "            id='y-axis-dropdown',\n",
    "            options=[\n",
    "                {'label': label, 'value': value} for value, label in variable_labels.items()\n",
    "            ],\n",
    "            multi=False,\n",
    "            value='reviews'\n",
    "        ),\n",
    "        html.Br()\n",
    "    ], style={'marginLeft': 25, 'marginRight': 25}),\n",
    "    html.Div([\n",
    "        html.Label('Graph'),\n",
    "        dcc.Graph(\n",
    "            id='scatter-plot-graphhh',\n",
    "            animate=True,\n",
    "            figure={\n",
    "                'data': [\n",
    "                    go.Scatter(\n",
    "                        x=dfLatest[dfLatest.bechdel == 0.0].duration,\n",
    "                        y=dfLatest[dfLatest.bechdel == 0.0].reviews,\n",
    "                        text=dfLatest[dfLatest.bechdel == 0.0].title,\n",
    "                        mode='markers',\n",
    "                        opacity=0.5,\n",
    "                        marker={\n",
    "                            'color': 'orange',\n",
    "                            'size': 10,\n",
    "                            'line': {'width': 1, 'color': 'black'}\n",
    "                        },\n",
    "                        name='Bechdel Score: 0'\n",
    "                    ),\n",
    "                    go.Scatter(\n",
    "                        x=dfLatest[dfLatest.bechdel == 1.0].duration,\n",
    "                        y=dfLatest[dfLatest.bechdel == 1.0].reviews,\n",
    "                        text=dfLatest[dfLatest.bechdel == 1.0].title,\n",
    "                        mode='markers',\n",
    "                        opacity=0.5,\n",
    "                        marker={\n",
    "                            'color': 'gray',\n",
    "                            'size': 10,\n",
    "                            'line': {'width': 1, 'color': 'black'}\n",
    "                        },\n",
    "                        name='Bechdel Score: 1'\n",
    "                    ),\n",
    "                    go.Scatter(\n",
    "                        x=dfLatest[dfLatest.bechdel == 2.0].duration,\n",
    "                        y=dfLatest[dfLatest.bechdel == 2.0].reviews,\n",
    "                        text=dfLatest[dfLatest.bechdel == 2.0].title,\n",
    "                        mode='markers',\n",
    "                        opacity=0.5,\n",
    "                        marker={\n",
    "                            'color': 'blue',\n",
    "                            'size': 10,\n",
    "                            'line': {'width': 1, 'color': 'black'}\n",
    "                        },\n",
    "                        name='Bechdel Score: 2'\n",
    "                    ),\n",
    "                    go.Scatter(\n",
    "                        x=dfLatest[dfLatest.bechdel == 3.0].duration,\n",
    "                        y=dfLatest[dfLatest.bechdel == 3.0].reviews,\n",
    "                        text=dfLatest[dfLatest.bechdel == 3.0].title,\n",
    "                        mode='markers',\n",
    "                        opacity=0.5,\n",
    "                        marker={\n",
    "                            'color': 'pink',\n",
    "                            'size': 10,\n",
    "                            'line': {'width': 1, 'color': 'black'}\n",
    "                        },\n",
    "                        name='Bechdel Score: 3'\n",
    "                    )\n",
    "                    \n",
    "                ],\n",
    "                'layout': go.Layout(\n",
    "                    margin={'l': 40, 'b': 40, 't': 10, 'r': 10},\n",
    "                    xaxis={'title': ''},\n",
    "                    yaxis={'title': ''},\n",
    "                    hovermode='closest'\n",
    "                )\n",
    "            }\n",
    "        ),\n",
    "        html.Br(),\n",
    "        html.P('')\n",
    "    ], style={'marginLeft': 25, 'marginRight': 25})\n",
    "])"
   ]
  },
  {
   "cell_type": "code",
   "execution_count": 51,
   "metadata": {},
   "outputs": [
    {
     "name": "stdout",
     "output_type": "stream",
     "text": [
      "Dash app running on http://127.0.0.1:8057/\n"
     ]
    },
    {
     "name": "stderr",
     "output_type": "stream",
     "text": [
      "C:\\ProgramData\\Anaconda3\\lib\\site-packages\\dash\\resources.py:68: UserWarning: You have set your config to `serve_locally=True` but A local version of https://codepen.io/chriddyp/pen/bWLwgP.css is not available.\n",
      "If you added this file with `app.scripts.append_script` or `app.css.append_css`, use `external_scripts` or `external_stylesheets` instead.\n",
      "See https://dash.plot.com/external-resources\n",
      "  ).format(s[\"external_url\"])\n"
     ]
    }
   ],
   "source": [
    "app.css.append_css({'external_url': 'https://codepen.io/chriddyp/pen/bWLwgP.css'})\n",
    "\n",
    "\n",
    "if __name__ == '__main__':\n",
    "    app.run_server(debug=True,port=8057)"
   ]
  },
  {
   "cell_type": "code",
   "execution_count": 49,
   "metadata": {},
   "outputs": [],
   "source": [
    "# update callbacks:\n",
    "@app.callback(\n",
    "    dash.dependencies.Output('scatter-plot-graphhh', 'figure'),\n",
    "    [\n",
    "        dash.dependencies.Input('nb-reviews-slider', 'value'),\n",
    "        dash.dependencies.Input('year-released-range-slider', 'value'),\n",
    "        dash.dependencies.Input('oscars-won-slider', 'value'),\n",
    "        dash.dependencies.Input('dollars-boxoffice-range-slider', 'value'),\n",
    "        dash.dependencies.Input('genre-dropdown', 'value'),\n",
    "        dash.dependencies.Input('x-axis-dropdown', 'value'),\n",
    "        dash.dependencies.Input('y-axis-dropdown', 'value')\n",
    "    ]\n",
    ")\n",
    "def update_scatter_plot(selected_nb_reviews, selected_years_released, selected_nb_oscars_won,\n",
    "                        selected_dollars_boxoffice, selected_genre, \n",
    "                        x_axis_var, y_axis_var):\n",
    "\n",
    "    nb_reviews = selected_nb_reviews or df.reviews.min()\n",
    "    year_released_start, year_released_end = selected_years_released or (dfLatest.year.min(), dfLatest.year.max())\n",
    "    oscars_won = selected_nb_oscars_won or dfLatest.bechdel.min()\n",
    "    dollars_boxoffice_min, dollars_boxoffice_max = (amount * 1e6 for amount in selected_dollars_boxoffice) or \\\n",
    "        (dfLatest.revenue.min(), dfLatest.revenue.max())\n",
    "    movie_genre = selected_genre or None\n",
    "    x_axis = x_axis_var\n",
    "    y_axis = y_axis_var\n",
    "\n",
    "    filtered_df = (\n",
    "        dfLatest.pipe(lambda dfLatest: dfLatest[dfLatest['reviews'] >= nb_reviews])\n",
    "        .pipe(lambda dfLatest: dfLatest[(dfLatest['year'] >= year_released_start) & (dfLatest['year'] <= year_released_end)])\n",
    "        .pipe(lambda dfLatest: dfLatest[dfLatest['bechdel'] >= oscars_won])\n",
    "        .pipe(lambda dfLatest: dfLatest[(dfLatest['revenue'] >= dollars_boxoffice_min) & (dfLatest['revenue'] <= dollars_boxoffice_max)])\n",
    "        .pipe(lambda dfLatest: dfLatest[dfLatest['genres'].str.contains(movie_genre)] if movie_genre else dfLatest)\n",
    "    )\n",
    "\n",
    "    return {\n",
    "        'data': [\n",
    "            go.Scatter(\n",
    "                x=filtered_df[filtered_df.bechdel == 0.0][x_axis],\n",
    "                y=filtered_df[filtered_df.bechdel == 0.0][y_axis],\n",
    "                text=filtered_df[filtered_df.bechdel == 0.0]['title'],\n",
    "                mode='markers',\n",
    "                opacity=0.5,\n",
    "                marker={\n",
    "                    'color': 'orange',\n",
    "                    'size': 10,\n",
    "                    'line': {'width': 1, 'color': 'black'}\n",
    "                },\n",
    "                name='Bechdel Score: 0'\n",
    "            ),\n",
    "            go.Scatter(\n",
    "                x=filtered_df[filtered_df.bechdel == 1.0][x_axis],\n",
    "                y=filtered_df[filtered_df.bechdel == 1.0][y_axis],\n",
    "                text=filtered_df[filtered_df.bechdel == 1.0]['title'],\n",
    "                mode='markers',\n",
    "                opacity=0.5,\n",
    "                marker={\n",
    "                    'color': 'gray',\n",
    "                    'size': 10,\n",
    "                    'line': {'width': 1, 'color': 'black'}\n",
    "                },\n",
    "                name='Bechdel Score: 1'\n",
    "            ),\n",
    "            go.Scatter(\n",
    "                x=filtered_df[filtered_df.bechdel == 2.0][x_axis],\n",
    "                y=filtered_df[filtered_df.bechdel == 2.0][y_axis],\n",
    "                text=filtered_df[filtered_df.bechdel == 2.0]['title'],\n",
    "                mode='markers',\n",
    "                opacity=0.5,\n",
    "                marker={\n",
    "                    'color': 'blue',\n",
    "                    'size': 10,\n",
    "                    'line': {'width': 1, 'color': 'black'}\n",
    "                },\n",
    "                name='Bechdel Score: 2'\n",
    "            ),\n",
    "            go.Scatter(\n",
    "                x=filtered_df[filtered_df.bechdel == 3.0][x_axis],\n",
    "                y=filtered_df[filtered_df.bechdel == 3.0][y_axis],\n",
    "                text=filtered_df[filtered_df.bechdel == 3.0]['title'],\n",
    "                mode='markers',\n",
    "                opacity=0.5,\n",
    "                marker={\n",
    "                    'color': 'pink',\n",
    "                    'size': 10,\n",
    "                    'line': {'width': 1, 'color': 'black'}\n",
    "                },\n",
    "                name='Bechdel Score: 3'\n",
    "            )\n",
    "        ],\n",
    "        'layout': go.Layout(\n",
    "            margin={'l': 40, 'b': 40, 't': 10, 'r': 10},\n",
    "            xaxis={\n",
    "                'title': variable_labels[x_axis],\n",
    "                'range': [\n",
    "                    filtered_df[x_axis].min(),\n",
    "                    filtered_df[x_axis].max()\n",
    "                ]\n",
    "            },\n",
    "            yaxis={\n",
    "                'title': variable_labels[y_axis],\n",
    "                'range': [\n",
    "                    filtered_df[y_axis].min(),\n",
    "                    filtered_df[y_axis].max()\n",
    "                ]},\n",
    "            hovermode='closest'\n",
    "        )\n",
    "    }\n"
   ]
  },
  {
   "cell_type": "code",
   "execution_count": 50,
   "metadata": {},
   "outputs": [],
   "source": [
    "genres = set(list(it.chain.from_iterable([g.split('|') for g in df.genres if g])))"
   ]
  },
  {
   "cell_type": "code",
   "execution_count": null,
   "metadata": {},
   "outputs": [],
   "source": [
    "dfLatest['genres'] = dfLatest['genres'].fillna(False, inplace=True)"
   ]
  },
  {
   "cell_type": "code",
   "execution_count": null,
   "metadata": {},
   "outputs": [],
   "source": [
    "dfLatest['reviews'].max()"
   ]
  },
  {
   "cell_type": "code",
   "execution_count": 52,
   "metadata": {},
   "outputs": [
    {
     "data": {
      "text/plain": [
       "{'(no genres listed)',\n",
       " 'Action',\n",
       " 'Adventure',\n",
       " 'Animation',\n",
       " 'Children',\n",
       " 'Comedy',\n",
       " 'Crime',\n",
       " 'Documentary',\n",
       " 'Drama',\n",
       " 'Fantasy',\n",
       " 'Film-Noir',\n",
       " 'Horror',\n",
       " 'IMAX',\n",
       " 'Musical',\n",
       " 'Mystery',\n",
       " 'Romance',\n",
       " 'Sci-Fi',\n",
       " 'Thriller',\n",
       " 'War',\n",
       " 'Western'}"
      ]
     },
     "execution_count": 52,
     "metadata": {},
     "output_type": "execute_result"
    }
   ],
   "source": [
    "genres"
   ]
  },
  {
   "cell_type": "code",
   "execution_count": 58,
   "metadata": {},
   "outputs": [
    {
     "data": {
      "text/plain": [
       "50000000.0"
      ]
     },
     "execution_count": 58,
     "metadata": {},
     "output_type": "execute_result"
    }
   ],
   "source": [
    "min(dfLatest.revenue)*1e6"
   ]
  },
  {
   "cell_type": "code",
   "execution_count": 55,
   "metadata": {},
   "outputs": [],
   "source": [
    "dfLatest.to_csv('latestdf.csv', index=True)"
   ]
  },
  {
   "cell_type": "code",
   "execution_count": 60,
   "metadata": {},
   "outputs": [
    {
     "data": {
      "text/plain": [
       "dtype('O')"
      ]
     },
     "execution_count": 60,
     "metadata": {},
     "output_type": "execute_result"
    }
   ],
   "source": [
    "dfLatest['title'].dtype"
   ]
  },
  {
   "cell_type": "code",
   "execution_count": 61,
   "metadata": {},
   "outputs": [
    {
     "data": {
      "text/html": [
       "<div>\n",
       "<style scoped>\n",
       "    .dataframe tbody tr th:only-of-type {\n",
       "        vertical-align: middle;\n",
       "    }\n",
       "\n",
       "    .dataframe tbody tr th {\n",
       "        vertical-align: top;\n",
       "    }\n",
       "\n",
       "    .dataframe thead th {\n",
       "        text-align: right;\n",
       "    }\n",
       "</style>\n",
       "<table border=\"1\" class=\"dataframe\">\n",
       "  <thead>\n",
       "    <tr style=\"text-align: right;\">\n",
       "      <th></th>\n",
       "      <th>title</th>\n",
       "      <th>rating</th>\n",
       "      <th>year</th>\n",
       "      <th>director</th>\n",
       "      <th>cast</th>\n",
       "      <th>revenue</th>\n",
       "      <th>reviews</th>\n",
       "      <th>duration</th>\n",
       "      <th>bechdel</th>\n",
       "      <th>genres</th>\n",
       "    </tr>\n",
       "  </thead>\n",
       "  <tbody>\n",
       "    <tr>\n",
       "      <th>0</th>\n",
       "      <td>Toy Story</td>\n",
       "      <td>4.0</td>\n",
       "      <td>1995.0</td>\n",
       "      <td>John Lasseter</td>\n",
       "      <td>Tom Hanks, Tim Allen, Don Rickles, Jim Varney,...</td>\n",
       "      <td>406594102.0</td>\n",
       "      <td>538.0</td>\n",
       "      <td>81.0</td>\n",
       "      <td>1.0</td>\n",
       "      <td>Adventure|Animation|Children|Comedy|Fantasy</td>\n",
       "    </tr>\n",
       "    <tr>\n",
       "      <th>1</th>\n",
       "      <td>Jumanji</td>\n",
       "      <td>3.5</td>\n",
       "      <td>1995.0</td>\n",
       "      <td>Joe Johnston</td>\n",
       "      <td>Robin Williams, Jonathan Hyde, Kirsten Dunst, ...</td>\n",
       "      <td>262821940.0</td>\n",
       "      <td>220.0</td>\n",
       "      <td>104.0</td>\n",
       "      <td>3.0</td>\n",
       "      <td>Adventure|Children|Fantasy</td>\n",
       "    </tr>\n",
       "    <tr>\n",
       "      <th>2</th>\n",
       "      <td>Grumpier Old Men</td>\n",
       "      <td>4.0</td>\n",
       "      <td>1995.0</td>\n",
       "      <td>Howard Deutch</td>\n",
       "      <td>Walter Matthau, Jack Lemmon, Sophia Loren, Ann...</td>\n",
       "      <td>71518503.0</td>\n",
       "      <td>61.0</td>\n",
       "      <td>101.0</td>\n",
       "      <td>NaN</td>\n",
       "      <td>Comedy|Romance</td>\n",
       "    </tr>\n",
       "    <tr>\n",
       "      <th>3</th>\n",
       "      <td>Waitingto Exhale</td>\n",
       "      <td>2.0</td>\n",
       "      <td>1995.0</td>\n",
       "      <td>NaN</td>\n",
       "      <td>NaN</td>\n",
       "      <td>NaN</td>\n",
       "      <td>NaN</td>\n",
       "      <td>NaN</td>\n",
       "      <td>NaN</td>\n",
       "      <td>Comedy|Drama|Romance</td>\n",
       "    </tr>\n",
       "    <tr>\n",
       "      <th>4</th>\n",
       "      <td>Fatherofthe Bride Part II</td>\n",
       "      <td>2.0</td>\n",
       "      <td>1995.0</td>\n",
       "      <td>NaN</td>\n",
       "      <td>NaN</td>\n",
       "      <td>NaN</td>\n",
       "      <td>NaN</td>\n",
       "      <td>NaN</td>\n",
       "      <td>NaN</td>\n",
       "      <td>Comedy</td>\n",
       "    </tr>\n",
       "  </tbody>\n",
       "</table>\n",
       "</div>"
      ],
      "text/plain": [
       "                       title  rating    year       director  \\\n",
       "0                  Toy Story     4.0  1995.0  John Lasseter   \n",
       "1                    Jumanji     3.5  1995.0   Joe Johnston   \n",
       "2           Grumpier Old Men     4.0  1995.0  Howard Deutch   \n",
       "3           Waitingto Exhale     2.0  1995.0            NaN   \n",
       "4  Fatherofthe Bride Part II     2.0  1995.0            NaN   \n",
       "\n",
       "                                                cast      revenue  reviews  \\\n",
       "0  Tom Hanks, Tim Allen, Don Rickles, Jim Varney,...  406594102.0    538.0   \n",
       "1  Robin Williams, Jonathan Hyde, Kirsten Dunst, ...  262821940.0    220.0   \n",
       "2  Walter Matthau, Jack Lemmon, Sophia Loren, Ann...   71518503.0     61.0   \n",
       "3                                                NaN          NaN      NaN   \n",
       "4                                                NaN          NaN      NaN   \n",
       "\n",
       "   duration bechdel                                       genres  \n",
       "0      81.0     1.0  Adventure|Animation|Children|Comedy|Fantasy  \n",
       "1     104.0     3.0                   Adventure|Children|Fantasy  \n",
       "2     101.0     NaN                               Comedy|Romance  \n",
       "3       NaN     NaN                         Comedy|Drama|Romance  \n",
       "4       NaN     NaN                                       Comedy  "
      ]
     },
     "execution_count": 61,
     "metadata": {},
     "output_type": "execute_result"
    }
   ],
   "source": [
    "dfLatest.head()"
   ]
  },
  {
   "cell_type": "code",
   "execution_count": 62,
   "metadata": {},
   "outputs": [
    {
     "data": {
      "text/plain": [
       "0        1995.0\n",
       "1        1995.0\n",
       "2        1995.0\n",
       "3        1995.0\n",
       "4        1995.0\n",
       "          ...  \n",
       "31362    2014.0\n",
       "31363    2014.0\n",
       "31364    2014.0\n",
       "31365    2014.0\n",
       "31366    2014.0\n",
       "Name: year, Length: 31367, dtype: float64"
      ]
     },
     "execution_count": 62,
     "metadata": {},
     "output_type": "execute_result"
    }
   ],
   "source": [
    "dfLatest['year']"
   ]
  },
  {
   "cell_type": "code",
   "execution_count": 65,
   "metadata": {},
   "outputs": [
    {
     "data": {
      "text/plain": [
       "2789968301.0"
      ]
     },
     "execution_count": 65,
     "metadata": {},
     "output_type": "execute_result"
    }
   ],
   "source": [
    "max(dfLatest['revenue'])"
   ]
  },
  {
   "cell_type": "code",
   "execution_count": 66,
   "metadata": {},
   "outputs": [
    {
     "data": {
      "text/plain": [
       "array(['Adventure|Animation|Children|Comedy|Fantasy',\n",
       "       'Adventure|Children|Fantasy', 'Comedy|Romance', ...,\n",
       "       'Animation|Children|Comedy|Fantasy|Sci-Fi',\n",
       "       'Animation|Children|Comedy|Western', nan], dtype=object)"
      ]
     },
     "execution_count": 66,
     "metadata": {},
     "output_type": "execute_result"
    }
   ],
   "source": [
    "dfLatest['genres'].unique() # choose the first "
   ]
  },
  {
   "cell_type": "code",
   "execution_count": 77,
   "metadata": {},
   "outputs": [],
   "source": [
    "def split(genre):\n",
    "    return(genre.rsplit('|')[0])"
   ]
  },
  {
   "cell_type": "code",
   "execution_count": 79,
   "metadata": {},
   "outputs": [],
   "source": [
    "dfLatest['genres'] = dfLatest['genres'].apply(split)"
   ]
  },
  {
   "cell_type": "code",
   "execution_count": 69,
   "metadata": {},
   "outputs": [
    {
     "name": "stdout",
     "output_type": "stream",
     "text": [
      "<class 'pandas.core.frame.DataFrame'>\n",
      "Int64Index: 31367 entries, 0 to 31366\n",
      "Data columns (total 10 columns):\n",
      " #   Column    Non-Null Count  Dtype   \n",
      "---  ------    --------------  -----   \n",
      " 0   title     31367 non-null  object  \n",
      " 1   rating    30748 non-null  float64 \n",
      " 2   year      26144 non-null  float64 \n",
      " 3   director  12535 non-null  object  \n",
      " 4   cast      12536 non-null  object  \n",
      " 5   revenue   6941 non-null   float64 \n",
      " 6   reviews   12375 non-null  float64 \n",
      " 7   duration  12536 non-null  float64 \n",
      " 8   bechdel   5290 non-null   category\n",
      " 9   genres    30527 non-null  object  \n",
      "dtypes: category(1), float64(5), object(4)\n",
      "memory usage: 2.4+ MB\n"
     ]
    }
   ],
   "source": [
    "dfLatest.info()"
   ]
  },
  {
   "cell_type": "code",
   "execution_count": 72,
   "metadata": {},
   "outputs": [],
   "source": [
    "dfLatest['genres']=dfLatest['genres'].fillna(\"\")"
   ]
  },
  {
   "cell_type": "code",
   "execution_count": 81,
   "metadata": {},
   "outputs": [
    {
     "data": {
      "text/plain": [
       "array(['Adventure', 'Comedy', 'Action', 'Drama', 'Crime', 'Children',\n",
       "       'Mystery', 'Documentary', 'Animation', 'Thriller', 'Horror',\n",
       "       'Fantasy', 'Western', 'Film-Noir', 'Romance', 'War', 'Sci-Fi',\n",
       "       'Musical', 'IMAX', '(no genres listed)', ''], dtype=object)"
      ]
     },
     "execution_count": 81,
     "metadata": {},
     "output_type": "execute_result"
    }
   ],
   "source": [
    "dfLatest['genres'].unique()"
   ]
  },
  {
   "cell_type": "code",
   "execution_count": 82,
   "metadata": {},
   "outputs": [
    {
     "name": "stdout",
     "output_type": "stream",
     "text": [
      "<class 'pandas.core.frame.DataFrame'>\n",
      "Int64Index: 31367 entries, 0 to 31366\n",
      "Data columns (total 10 columns):\n",
      " #   Column    Non-Null Count  Dtype   \n",
      "---  ------    --------------  -----   \n",
      " 0   title     31367 non-null  object  \n",
      " 1   rating    30748 non-null  float64 \n",
      " 2   year      26144 non-null  float64 \n",
      " 3   director  12535 non-null  object  \n",
      " 4   cast      12536 non-null  object  \n",
      " 5   revenue   6941 non-null   float64 \n",
      " 6   reviews   12375 non-null  float64 \n",
      " 7   duration  12536 non-null  float64 \n",
      " 8   bechdel   5290 non-null   category\n",
      " 9   genres    31367 non-null  object  \n",
      "dtypes: category(1), float64(5), object(4)\n",
      "memory usage: 2.4+ MB\n"
     ]
    }
   ],
   "source": [
    "dfLatest.info() # change to csv and redo dashboard"
   ]
  },
  {
   "cell_type": "code",
   "execution_count": 83,
   "metadata": {},
   "outputs": [],
   "source": [
    "dfLatest.to_csv('lat.csv', index=True)"
   ]
  },
  {
   "cell_type": "code",
   "execution_count": null,
   "metadata": {},
   "outputs": [],
   "source": []
  }
 ],
 "metadata": {
  "kernelspec": {
   "display_name": "Python 3",
   "language": "python",
   "name": "python3"
  },
  "language_info": {
   "codemirror_mode": {
    "name": "ipython",
    "version": 3
   },
   "file_extension": ".py",
   "mimetype": "text/x-python",
   "name": "python",
   "nbconvert_exporter": "python",
   "pygments_lexer": "ipython3",
   "version": "3.7.6"
  }
 },
 "nbformat": 4,
 "nbformat_minor": 4
}
